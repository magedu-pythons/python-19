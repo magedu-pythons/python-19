{
 "cells": [
  {
   "cell_type": "code",
   "execution_count": null,
   "metadata": {},
   "outputs": [],
   "source": [
    "#1、打乱一个排好序的list对象alist，alist=[1,2,3,4,5]\n",
    "import random\n",
    "alist = [1,2,3,4,5]\n",
    "random.shuffle(alist)\n",
    "print(list)\n"
   ]
  },
  {
   "cell_type": "code",
   "execution_count": 58,
   "metadata": {},
   "outputs": [
    {
     "name": "stdout",
     "output_type": "stream",
     "text": [
      "项链\n"
     ]
    }
   ],
   "source": [
    "#2、已知仓库中有若干商品，以及相应库存，类似：袜子，10 鞋子，20 拖鞋，30 项链，40\n",
    "#要求随机返回一种商品，要求商品被返回的概率与其库存成正比。请描述实现的思路或者直接写一个实现的函数 \n",
    "\n",
    "#解题思路，根据库存数量求返回的概率，即袜子10%，鞋子20%，拖鞋30%，项链40%，假设有总共10件商品，那么袜子概率1件，鞋子2件，拖鞋3件，项链4件\n",
    "#从这些商品数量去随机选择得出商品概率就是跟库存成比例\n",
    "import random\n",
    "item = random.choice(['袜子','鞋子','鞋子','拖鞋','拖鞋','拖鞋','项链','项链','项链','项链'])\n",
    "print(item)  #简单实现思路，虽然不python\n",
    "\n",
    "\n"
   ]
  },
  {
   "cell_type": "code",
   "execution_count": 29,
   "metadata": {},
   "outputs": [
    {
     "name": "stdout",
     "output_type": "stream",
     "text": [
      "[{'a': 'c'}, {'b': 'd'}]\n"
     ]
    }
   ],
   "source": [
    "#3、 现有两元祖 (('a'),('b')),(('c'),('d')) ,请使用Python中的匿名函数生成列表 [ {'a':'c'｝,{'b':'d'}]\n",
    "#解题思路一：\n",
    "# t = [(('a'),('b')),(('c'),('d'))]\n",
    "# lst1 =[]\n",
    "# for j in range(2):\n",
    "#     lst =[]\n",
    "#     d = []\n",
    "#     for i in t:\n",
    "#         lst.append(i[j])    \n",
    "#     d = {lst[0]:lst[1]}\n",
    "#     lst1.append(d)\n",
    "# print(lst1)\n",
    "    \n",
    "tup1=(('a'),('b'))  #使用匿名函数想了很久没想出来，学习参考别人的方法\n",
    "tup2=(('c'),('d'))\n",
    "ret=zip(tup1,tup2)\n",
    "ret2=list(map(lambda tup:{tup[0]:tup[1]},ret))\n",
    "print(ret2)"
   ]
  },
  {
   "cell_type": "code",
   "execution_count": 36,
   "metadata": {},
   "outputs": [
    {
     "name": "stdout",
     "output_type": "stream",
     "text": [
      "please input a sentense:I am a teacher\n",
      "['teacher', 'a', 'am', 'I']\n"
     ]
    }
   ],
   "source": [
    "#4、输入一个英文句子,翻转句子中的单词顺序,但单词内字符的顺序不变 \n",
    "sen = input('please input a sentense:') #不知道有没有理解对题意，但是确实实现\n",
    "lst = sen.split()\n",
    "list.reverse(lst)\n",
    "print(lst)"
   ]
  },
  {
   "cell_type": "code",
   "execution_count": null,
   "metadata": {},
   "outputs": [],
   "source": [
    "   "
   ]
  },
  {
   "cell_type": "code",
   "execution_count": null,
   "metadata": {},
   "outputs": [],
   "source": []
  }
 ],
 "metadata": {
  "kernelspec": {
   "display_name": "Python 3",
   "language": "python",
   "name": "python3"
  },
  "language_info": {
   "codemirror_mode": {
    "name": "ipython",
    "version": 3
   },
   "file_extension": ".py",
   "mimetype": "text/x-python",
   "name": "python",
   "nbconvert_exporter": "python",
   "pygments_lexer": "ipython3",
   "version": "3.6.4"
  }
 },
 "nbformat": 4,
 "nbformat_minor": 2
}
