{
 "cells": [
  {
   "cell_type": "code",
   "execution_count": 7,
   "metadata": {},
   "outputs": [
    {
     "data": {
      "text/plain": [
       "4"
      ]
     },
     "execution_count": 7,
     "metadata": {},
     "output_type": "execute_result"
    }
   ],
   "source": [
    "#1、实现一个函数用于判断字符串str2是否是str1的子串。如果是，则该函数返回str2在str1中首次出现的地址；否则，返回None。\n",
    "def func(str1:str,str2:str):    \n",
    "    if str1.find(str2) == -1:\n",
    "        return 'None'\n",
    "    return str1.find(str2)\n",
    "\n",
    "s1 = 'abcg432'\n",
    "s2 = '43'\n",
    "func(s1,s2)"
   ]
  },
  {
   "cell_type": "code",
   "execution_count": 8,
   "metadata": {},
   "outputs": [
    {
     "data": {
      "text/plain": [
       "'None'"
      ]
     },
     "execution_count": 8,
     "metadata": {},
     "output_type": "execute_result"
    }
   ],
   "source": [
    "s1 = 'abcg432'\n",
    "s2 = 'cb'\n",
    "func(s1,s2)"
   ]
  },
  {
   "cell_type": "code",
   "execution_count": null,
   "metadata": {},
   "outputs": [],
   "source": []
  },
  {
   "cell_type": "code",
   "execution_count": 11,
   "metadata": {},
   "outputs": [
    {
     "name": "stdout",
     "output_type": "stream",
     "text": [
      "please input number>>11\n",
      "success found two number:2 9\n",
      "success found two number:7 4\n"
     ]
    }
   ],
   "source": [
    "# 2、给定一个整型列表，请实现从其中找出2个数的和为某一个指定的值？\n",
    "# 如：lst =[1,5,2,7,4,9]，指定的目标值为11，可以从中找出 2和9之和为11 \n",
    "num = int(input('please input number>>'))\n",
    "lst =[1,5,2,7,4,9]\n",
    "n = len(lst)\n",
    "for i in range(n):\n",
    "    for j in range(i+1,n):\n",
    "        if lst[i] + lst[j] == num :\n",
    "            print(\"success found two number:{} {}\".format(lst[i],lst[j]))\n",
    "        \n",
    "        "
   ]
  },
  {
   "cell_type": "code",
   "execution_count": null,
   "metadata": {},
   "outputs": [],
   "source": []
  },
  {
   "cell_type": "code",
   "execution_count": null,
   "metadata": {},
   "outputs": [],
   "source": []
  }
 ],
 "metadata": {
  "kernelspec": {
   "display_name": "Python 3",
   "language": "python",
   "name": "python3"
  },
  "language_info": {
   "codemirror_mode": {
    "name": "ipython",
    "version": 3
   },
   "file_extension": ".py",
   "mimetype": "text/x-python",
   "name": "python",
   "nbconvert_exporter": "python",
   "pygments_lexer": "ipython3",
   "version": "3.6.4"
  }
 },
 "nbformat": 4,
 "nbformat_minor": 2
}
