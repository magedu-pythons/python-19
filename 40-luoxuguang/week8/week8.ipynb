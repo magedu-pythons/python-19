{
 "cells": [
  {
   "cell_type": "code",
   "execution_count": 6,
   "metadata": {},
   "outputs": [
    {
     "data": {
      "text/plain": [
       "['1', '2', '3']"
      ]
     },
     "execution_count": 6,
     "metadata": {},
     "output_type": "execute_result"
    }
   ],
   "source": [
    "#1、请将 \"1,2,3\"，变成 [\"1\",\"2\",\"3\"]\n",
    "origin = \"1,2,3\"\n",
    "def trans(s):\n",
    "    return s.split(',')\n",
    "\n",
    "trans(origin)"
   ]
  },
  {
   "cell_type": "code",
   "execution_count": 13,
   "metadata": {},
   "outputs": [
    {
     "data": {
      "text/plain": [
       "'E:\\\\b\\\\test.txt'"
      ]
     },
     "execution_count": 13,
     "metadata": {},
     "output_type": "execute_result"
    }
   ],
   "source": [
    "#2、使用Python copy一个文件，从a目录,copy文件到b目录\n",
    "import os, shutil\n",
    "#os.getcwd()\n",
    "os.chdir('E:\\\\')\n",
    "shutil.copy('\\\\a\\\\test.txt', 'E:\\\\b')"
   ]
  },
  {
   "cell_type": "code",
   "execution_count": null,
   "metadata": {},
   "outputs": [],
   "source": [
    "\n"
   ]
  },
  {
   "cell_type": "code",
   "execution_count": 1,
   "metadata": {},
   "outputs": [
    {
     "name": "stdout",
     "output_type": "stream",
     "text": [
      "[[10], [10], [10], [10], [10]]\n",
      "[[10, 20], [10, 20], [10, 20], [10, 20], [10, 20]]\n",
      "[[10, 20], [10, 20], [10, 20], [10, 20], [10, 20], 30]\n"
     ]
    }
   ],
   "source": [
    "#3、以下代码输出什么，请解释原因(写到问题下方):\n",
    "li = [ [ ] ] * 5    #li是一个保存了五个相同地址的空列表的列表\n",
    "li[0].append(10)    #li[0]元素增加元素10，就是第一个空列表指向的地址增加元素10，而li其他元素都是保存相同地址，\n",
    "print(li)            #所以print(li)  显示[[10], [10], [10], [10], [10]]\n",
    "li[1].append(20)     #第二个空列表指向的地址增加元素20变成[10,20]，其他元素也指向[10, 20]\n",
    "print(li)            #[[10, 20], [10, 20], [10, 20], [10, 20], [10, 20]]\n",
    "li.append(30)        #li列表新添加元素30，元素30的地址直接保存在li列表里，没有影响其他元素指向的地址，所以打印显示   \n",
    "print(li)            #[[10, 20], [10, 20], [10, 20], [10, 20], [10, 20], 30]\n",
    "\n"
   ]
  }
 ],
 "metadata": {
  "kernelspec": {
   "display_name": "Python 3",
   "language": "python",
   "name": "python3"
  },
  "language_info": {
   "codemirror_mode": {
    "name": "ipython",
    "version": 3
   },
   "file_extension": ".py",
   "mimetype": "text/x-python",
   "name": "python",
   "nbconvert_exporter": "python",
   "pygments_lexer": "ipython3",
   "version": "3.6.4"
  }
 },
 "nbformat": 4,
 "nbformat_minor": 2
}
