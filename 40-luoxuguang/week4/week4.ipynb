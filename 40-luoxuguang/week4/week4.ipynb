{
 "cells": [
  {
   "cell_type": "code",
   "execution_count": 2,
   "metadata": {},
   "outputs": [
    {
     "name": "stdout",
     "output_type": "stream",
     "text": [
      "please input key word:abc\n",
      "1\n"
     ]
    }
   ],
   "source": [
    "#1、给出任意一个列表，请查找出x元素是否在列表里面，如果存在返回1，不存在返回0\n",
    "lst = [1,'x','abc',34,['a','b','c']]\n",
    "key = input(\"please input key word:\")\n",
    "if key in lst:\n",
    "    print(1)\n",
    "else:\n",
    "    print(0)\n",
    "\n",
    "\n"
   ]
  },
  {
   "cell_type": "code",
   "execution_count": 46,
   "metadata": {},
   "outputs": [
    {
     "name": "stdout",
     "output_type": "stream",
     "text": [
      "I Have A Dream \n",
      " By Martin Luther King Five score years ago a great American ni whose symbolic shadow we stand signed the Emancipation Proclamation  This momentous decre came as a great beacon light of hope to millions of Negro slaves who had been seared in the flames of withering injustice  It come as a joyous daybreak to end the long night of captivity  But one hundred years Iater  we must face the tragic fact that the Negro is still not free \n",
      "82\n"
     ]
    }
   ],
   "source": [
    "#2、任一个英文的纯文本文件，统计其中的单词出现的个数。\n",
    "\n",
    "with open('dream.txt', 'r') as file:\n",
    "    #print(file.read())\n",
    "    content = file.read()\n",
    "\n",
    "for ch in '!\"@#$%^&*()+,-./:;<=>?@[\\\\]_`~{|}': #替换特殊字符\n",
    "    content = content.replace(ch, ' ')    #replace需要返回一个新的str，所以需要接收下来\n",
    "\n",
    "print(content)\n",
    "lst = content.split()   #内容分割成列表\n",
    "print(len(lst)) #列表的长度就是单词个数"
   ]
  },
  {
   "cell_type": "code",
   "execution_count": null,
   "metadata": {},
   "outputs": [],
   "source": []
  },
  {
   "cell_type": "code",
   "execution_count": null,
   "metadata": {},
   "outputs": [],
   "source": []
  },
  {
   "cell_type": "code",
   "execution_count": null,
   "metadata": {},
   "outputs": [],
   "source": []
  }
 ],
 "metadata": {
  "kernelspec": {
   "display_name": "Python 3",
   "language": "python",
   "name": "python3"
  },
  "language_info": {
   "codemirror_mode": {
    "name": "ipython",
    "version": 3
   },
   "file_extension": ".py",
   "mimetype": "text/x-python",
   "name": "python",
   "nbconvert_exporter": "python",
   "pygments_lexer": "ipython3",
   "version": "3.6.4"
  }
 },
 "nbformat": 4,
 "nbformat_minor": 2
}
