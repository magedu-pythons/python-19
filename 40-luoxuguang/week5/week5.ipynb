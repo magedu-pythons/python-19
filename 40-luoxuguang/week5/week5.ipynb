{
 "cells": [
  {
   "cell_type": "code",
   "execution_count": 8,
   "metadata": {},
   "outputs": [
    {
     "name": "stdout",
     "output_type": "stream",
     "text": [
      "please input a number:4554\n",
      "It's a Palindrome\n"
     ]
    }
   ],
   "source": [
    "#1、问题描述：一个5位数，判断它是不是回文数。\n",
    "num = input(\"please input a number:\")\n",
    "\n",
    "def numb(s):\n",
    "    length = len(s)\n",
    "    for i in range(length//2): \n",
    "        if s[i] != s[length-i-1]:\n",
    "            return 0\n",
    "    else:\n",
    "        return 1\n",
    "    \n",
    "if numb(num) :\n",
    "    print(\"It's a Palindrome\")\n",
    "else:\n",
    "    print('Not Palindrome')\n",
    "    \n",
    "#验证：please input a number:678\n",
    "#Not Palindrome\n",
    "#please input a number:4554\n",
    "#It's a Palindrome"
   ]
  },
  {
   "cell_type": "code",
   "execution_count": 15,
   "metadata": {},
   "outputs": [
    {
     "name": "stdout",
     "output_type": "stream",
     "text": [
      "[1, 75, 55, 48, 22, 59, 42, 53, 35, 80, 86, 16, 44, 49, 53, 69, 62, 81, 84, 3]\n",
      "最大的3个数是86、84、81\n"
     ]
    }
   ],
   "source": [
    "#2、随机生成20个数字，并且筛选出其中最大的3个数\n",
    "import random\n",
    "lst = []\n",
    "for i in range(20):\n",
    "    lst.append(random.randint(0,99))\n",
    "print(lst)\n",
    "lst.sort(reverse=True)\n",
    "print(\"最大的3个数是{}、{}、{}\".format(lst[0],lst[1],lst[2]))"
   ]
  },
  {
   "cell_type": "code",
   "execution_count": null,
   "metadata": {},
   "outputs": [],
   "source": []
  },
  {
   "cell_type": "code",
   "execution_count": null,
   "metadata": {},
   "outputs": [],
   "source": []
  },
  {
   "cell_type": "code",
   "execution_count": null,
   "metadata": {},
   "outputs": [],
   "source": []
  }
 ],
 "metadata": {
  "kernelspec": {
   "display_name": "Python 3",
   "language": "python",
   "name": "python3"
  },
  "language_info": {
   "codemirror_mode": {
    "name": "ipython",
    "version": 3
   },
   "file_extension": ".py",
   "mimetype": "text/x-python",
   "name": "python",
   "nbconvert_exporter": "python",
   "pygments_lexer": "ipython3",
   "version": "3.6.4"
  }
 },
 "nbformat": 4,
 "nbformat_minor": 2
}
